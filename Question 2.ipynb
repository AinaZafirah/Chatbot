{
 "cells": [
  {
   "cell_type": "code",
   "execution_count": 1,
   "metadata": {},
   "outputs": [],
   "source": [
    "import nltk\n",
    "import numpy as np\n",
    "import pandas as pd\n",
    "import seaborn as sns\n",
    "import matplotlib.pyplot as plt"
   ]
  },
  {
   "cell_type": "markdown",
   "metadata": {},
   "source": [
    "# Exploratory Data Analysis"
   ]
  },
  {
   "cell_type": "code",
   "execution_count": 2,
   "metadata": {},
   "outputs": [],
   "source": [
    "# Load Dataset\n",
    "data = pd.read_csv(\"twitter_raw_data/raw_twitter_politikus_2022_2022_05_21.csv\")"
   ]
  },
  {
   "cell_type": "code",
   "execution_count": 3,
   "metadata": {},
   "outputs": [
    {
     "name": "stdout",
     "output_type": "stream",
     "text": [
      "<class 'pandas.core.frame.DataFrame'>\n",
      "RangeIndex: 27025 entries, 0 to 27024\n",
      "Data columns (total 10 columns):\n",
      " #   Column                 Non-Null Count  Dtype  \n",
      "---  ------                 --------------  -----  \n",
      " 0   id                     27025 non-null  object \n",
      " 1   user_created_time      27023 non-null  object \n",
      " 2   user                   27023 non-null  object \n",
      " 3   user_description       22096 non-null  object \n",
      " 4   user_followers_count   27022 non-null  object \n",
      " 5   user_profile_location  16341 non-null  object \n",
      " 6   tweet_geo_loc          2 non-null      object \n",
      " 7   tweets                 27021 non-null  object \n",
      " 8   likes                  27021 non-null  float64\n",
      " 9   time                   27021 non-null  object \n",
      "dtypes: float64(1), object(9)\n",
      "memory usage: 2.1+ MB\n"
     ]
    }
   ],
   "source": [
    "# Statistics about the dataset\n",
    "data.info()"
   ]
  },
  {
   "cell_type": "code",
   "execution_count": 4,
   "metadata": {},
   "outputs": [
    {
     "data": {
      "text/html": [
       "<div>\n",
       "<style scoped>\n",
       "    .dataframe tbody tr th:only-of-type {\n",
       "        vertical-align: middle;\n",
       "    }\n",
       "\n",
       "    .dataframe tbody tr th {\n",
       "        vertical-align: top;\n",
       "    }\n",
       "\n",
       "    .dataframe thead th {\n",
       "        text-align: right;\n",
       "    }\n",
       "</style>\n",
       "<table border=\"1\" class=\"dataframe\">\n",
       "  <thead>\n",
       "    <tr style=\"text-align: right;\">\n",
       "      <th></th>\n",
       "      <th>id</th>\n",
       "      <th>user_created_time</th>\n",
       "      <th>user</th>\n",
       "      <th>user_description</th>\n",
       "      <th>user_followers_count</th>\n",
       "      <th>user_profile_location</th>\n",
       "      <th>tweet_geo_loc</th>\n",
       "      <th>tweets</th>\n",
       "      <th>likes</th>\n",
       "      <th>time</th>\n",
       "    </tr>\n",
       "  </thead>\n",
       "  <tbody>\n",
       "    <tr>\n",
       "      <th>0</th>\n",
       "      <td>361645099</td>\n",
       "      <td>Thu Aug 25 03:13:42 +0000 2011</td>\n",
       "      <td>AndPhillipMassa</td>\n",
       "      <td>#ChelseaFCFans #DRAGON 1 🐲🐉 #MesejPendekUntukA...</td>\n",
       "      <td>483</td>\n",
       "      <td>Kuching,Malaysia.</td>\n",
       "      <td>NaN</td>\n",
       "      <td>WORLDCHAMPIONSHIP POPDEYEL GUANFRIN AJARJIAN X...</td>\n",
       "      <td>1.0</td>\n",
       "      <td>2022-05-20 07:40:13+00:00</td>\n",
       "    </tr>\n",
       "    <tr>\n",
       "      <th>1</th>\n",
       "      <td>911488155722936320</td>\n",
       "      <td>Sat Sep 23 07:11:25 +0000 2017</td>\n",
       "      <td>aizuddin_anuar</td>\n",
       "      <td>🇲🇾 | Always learning | Writer, Teacher, Resear...</td>\n",
       "      <td>1433</td>\n",
       "      <td>Oxford, England</td>\n",
       "      <td>NaN</td>\n",
       "      <td>RT @naratifmalaysia: Ucapan belasungkawa keata...</td>\n",
       "      <td>0.0</td>\n",
       "      <td>2022-05-19 02:00:57+00:00</td>\n",
       "    </tr>\n",
       "    <tr>\n",
       "      <th>2</th>\n",
       "      <td>257765390</td>\n",
       "      <td>Sat Feb 26 03:39:32 +0000 2011</td>\n",
       "      <td>HIFZHAN_ANUAR</td>\n",
       "      <td>NaN</td>\n",
       "      <td>273</td>\n",
       "      <td>Terengganu/Kelantan</td>\n",
       "      <td>NaN</td>\n",
       "      <td>RT @jentikhati: Doa Supaya Tak Tinggal Solat :...</td>\n",
       "      <td>0.0</td>\n",
       "      <td>2022-05-18 09:38:49+00:00</td>\n",
       "    </tr>\n",
       "    <tr>\n",
       "      <th>3</th>\n",
       "      <td>911488155722936320</td>\n",
       "      <td>Sat Sep 23 07:11:25 +0000 2017</td>\n",
       "      <td>aizuddin_anuar</td>\n",
       "      <td>🇲🇾 | Always learning | Writer, Teacher, Resear...</td>\n",
       "      <td>1433</td>\n",
       "      <td>Oxford, England</td>\n",
       "      <td>NaN</td>\n",
       "      <td>Saddened to hear about the passing of Malaysia...</td>\n",
       "      <td>23.0</td>\n",
       "      <td>2022-05-18 04:34:35+00:00</td>\n",
       "    </tr>\n",
       "    <tr>\n",
       "      <th>4</th>\n",
       "      <td>911488155722936320</td>\n",
       "      <td>Sat Sep 23 07:11:25 +0000 2017</td>\n",
       "      <td>aizuddin_anuar</td>\n",
       "      <td>🇲🇾 | Always learning | Writer, Teacher, Resear...</td>\n",
       "      <td>1433</td>\n",
       "      <td>Oxford, England</td>\n",
       "      <td>NaN</td>\n",
       "      <td>RT @Antid_Oto7: One of the great Malaysian Ant...</td>\n",
       "      <td>0.0</td>\n",
       "      <td>2022-05-18 04:25:31+00:00</td>\n",
       "    </tr>\n",
       "  </tbody>\n",
       "</table>\n",
       "</div>"
      ],
      "text/plain": [
       "                   id               user_created_time             user  \\\n",
       "0           361645099  Thu Aug 25 03:13:42 +0000 2011  AndPhillipMassa   \n",
       "1  911488155722936320  Sat Sep 23 07:11:25 +0000 2017   aizuddin_anuar   \n",
       "2           257765390  Sat Feb 26 03:39:32 +0000 2011    HIFZHAN_ANUAR   \n",
       "3  911488155722936320  Sat Sep 23 07:11:25 +0000 2017   aizuddin_anuar   \n",
       "4  911488155722936320  Sat Sep 23 07:11:25 +0000 2017   aizuddin_anuar   \n",
       "\n",
       "                                    user_description user_followers_count  \\\n",
       "0  #ChelseaFCFans #DRAGON 1 🐲🐉 #MesejPendekUntukA...                  483   \n",
       "1  🇲🇾 | Always learning | Writer, Teacher, Resear...                 1433   \n",
       "2                                                NaN                  273   \n",
       "3  🇲🇾 | Always learning | Writer, Teacher, Resear...                 1433   \n",
       "4  🇲🇾 | Always learning | Writer, Teacher, Resear...                 1433   \n",
       "\n",
       "  user_profile_location tweet_geo_loc  \\\n",
       "0     Kuching,Malaysia.           NaN   \n",
       "1       Oxford, England           NaN   \n",
       "2   Terengganu/Kelantan           NaN   \n",
       "3       Oxford, England           NaN   \n",
       "4       Oxford, England           NaN   \n",
       "\n",
       "                                              tweets  likes  \\\n",
       "0  WORLDCHAMPIONSHIP POPDEYEL GUANFRIN AJARJIAN X...    1.0   \n",
       "1  RT @naratifmalaysia: Ucapan belasungkawa keata...    0.0   \n",
       "2  RT @jentikhati: Doa Supaya Tak Tinggal Solat :...    0.0   \n",
       "3  Saddened to hear about the passing of Malaysia...   23.0   \n",
       "4  RT @Antid_Oto7: One of the great Malaysian Ant...    0.0   \n",
       "\n",
       "                        time  \n",
       "0  2022-05-20 07:40:13+00:00  \n",
       "1  2022-05-19 02:00:57+00:00  \n",
       "2  2022-05-18 09:38:49+00:00  \n",
       "3  2022-05-18 04:34:35+00:00  \n",
       "4  2022-05-18 04:25:31+00:00  "
      ]
     },
     "execution_count": 4,
     "metadata": {},
     "output_type": "execute_result"
    }
   ],
   "source": [
    "# Get first 5 rows\n",
    "data.head()"
   ]
  },
  {
   "cell_type": "code",
   "execution_count": 5,
   "metadata": {},
   "outputs": [],
   "source": [
    "# Plot for Percentage of data from different locations\n",
    "def data_source(feature, title, df, size):\n",
    "    f, ax = plt.subplots(1,1, figsize=(4*size,4))\n",
    "    total = float(len(df))\n",
    "    g = sns.countplot(df[feature], order = df[feature].value_counts().index[:20], palette='Set3')\n",
    "    g.set_title(\"Number and percentage of {}\".format(title))\n",
    "    if(size > 2):\n",
    "        plt.xticks(rotation=90, size=8)\n",
    "    for p in ax.patches:\n",
    "        height = p.get_height()\n",
    "        ax.text(p.get_x()+p.get_width()/2.,\n",
    "                height + 3,\n",
    "                '{:1.2f}%'.format(100*height/total),\n",
    "                ha=\"center\") \n",
    "    plt.show()"
   ]
  },
  {
   "cell_type": "code",
   "execution_count": 6,
   "metadata": {},
   "outputs": [
    {
     "name": "stderr",
     "output_type": "stream",
     "text": [
      "C:\\Users\\ACER\\anaconda3\\lib\\site-packages\\seaborn\\_decorators.py:36: FutureWarning: Pass the following variable as a keyword arg: x. From version 0.12, the only valid positional argument will be `data`, and passing other arguments without an explicit keyword will result in an error or misinterpretation.\n",
      "  warnings.warn(\n",
      "C:\\Users\\ACER\\anaconda3\\lib\\site-packages\\matplotlib\\backends\\backend_agg.py:238: RuntimeWarning: Glyph 127474 missing from current font.\n",
      "  font.set_text(s, 0.0, flags=flags)\n",
      "C:\\Users\\ACER\\anaconda3\\lib\\site-packages\\matplotlib\\backends\\backend_agg.py:238: RuntimeWarning: Glyph 127486 missing from current font.\n",
      "  font.set_text(s, 0.0, flags=flags)\n",
      "C:\\Users\\ACER\\anaconda3\\lib\\site-packages\\matplotlib\\backends\\backend_agg.py:201: RuntimeWarning: Glyph 127474 missing from current font.\n",
      "  font.set_text(s, 0, flags=flags)\n",
      "C:\\Users\\ACER\\anaconda3\\lib\\site-packages\\matplotlib\\backends\\backend_agg.py:201: RuntimeWarning: Glyph 127486 missing from current font.\n",
      "  font.set_text(s, 0, flags=flags)\n"
     ]
    },
    {
     "data": {
      "image/png": "[encoded data removed]",
      "text/plain": [
       "<Figure size 1152x288 with 1 Axes>"
      ]
     },
     "metadata": {
      "needs_background": "light"
     },
     "output_type": "display_data"
    }
   ],
   "source": [
    "# Percentage of data from different locations\n",
    "data_source(\"user_profile_location\", \"data from different locations\", data, 4)"
   ]
  },
  {
   "cell_type": "code",
   "execution_count": 7,
   "metadata": {},
   "outputs": [
    {
     "name": "stdout",
     "output_type": "stream",
     "text": [
      "user\n",
      "00000q7            1\n",
      "00__k00            1\n",
      "019383pqowie       1\n",
      "01ADONiS01         1\n",
      "01ahmetdonmez01    1\n",
      "                  ..\n",
      "zzahir1978         1\n",
      "zzddnn             4\n",
      "zzulfashah         1\n",
      "zzxrxdxhs          1\n",
      "zzzzaaahhid        2\n",
      "Name: user, Length: 14863, dtype: int64\n"
     ]
    }
   ],
   "source": [
    "# Count the number of users\n",
    "count_user =  data.groupby('user')['user'].count()\n",
    "print(count_user)"
   ]
  }
 ],
 "metadata": {
  "kernelspec": {
   "display_name": "Python 3",
   "language": "python",
   "name": "python3"
  },
  "language_info": {
   "codemirror_mode": {
    "name": "ipython",
    "version": 3
   },
   "file_extension": ".py",
   "mimetype": "text/x-python",
   "name": "python",
   "nbconvert_exporter": "python",
   "pygments_lexer": "ipython3",
   "version": "3.8.5"
  }
 },
 "nbformat": 4,
 "nbformat_minor": 4
}
