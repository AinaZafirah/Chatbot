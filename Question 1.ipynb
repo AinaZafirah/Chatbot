{
 "cells": [
  {
   "cell_type": "code",
   "execution_count": null,
   "metadata": {},
   "outputs": [],
   "source": [
    "import cv2\n",
    "import os\n",
    "\n",
    "# Load image\n",
    "img = cv2.imread(\"sample_1.jpg\")\n",
    "\n",
    "# Set logo area to crop\n",
    "width, height = 150, 190\n",
    "x, y = 20, 0\n",
    "\n",
    "# Crop image to specified area using slicing\n",
    "logo = img[y:y+height, x:x+width]\n",
    "\n",
    "# Show and save image to specific folder\n",
    "cv2.imshow(\"cropped\", logo)\n",
    "path = 'C:/Users/ACER/Desktop/AI Questions- April 2023'\n",
    "cv2.imwrite(os.path.join(path , 'detected_logo.jpg'), logo)\n",
    "cv2.waitKey(0)"
   ]
  },
  {
   "cell_type": "markdown",
   "metadata": {},
   "source": [
    "# Explanation\n",
    "\n",
    "The logo from the three pictures given are on the same location which is on the top left corner. So, I set the coordinates to the top left corner, x and y, and set the width and the height of the image I want to crop. After I crop the image, I displayed the cropped image and saved it to a specific folder."
   ]
  },
  {
   "cell_type": "code",
   "execution_count": null,
   "metadata": {},
   "outputs": [],
   "source": []
  }
 ],
 "metadata": {
  "kernelspec": {
   "display_name": "Python 3",
   "language": "python",
   "name": "python3"
  },
  "language_info": {
   "codemirror_mode": {
    "name": "ipython",
    "version": 3
   },
   "file_extension": ".py",
   "mimetype": "text/x-python",
   "name": "python",
   "nbconvert_exporter": "python",
   "pygments_lexer": "ipython3",
   "version": "3.8.5"
  }
 },
 "nbformat": 4,
 "nbformat_minor": 4
}
